{
  "nbformat": 4,
  "nbformat_minor": 0,
  "metadata": {
    "colab": {
      "provenance": [],
      "gpuType": "T4"
    },
    "kernelspec": {
      "name": "python3",
      "display_name": "Python 3"
    },
    "language_info": {
      "name": "python"
    },
    "accelerator": "GPU"
  },
  "cells": [
    {
      "cell_type": "code",
      "source": [
        "import pandas as pd\n",
        "import numpy as np\n",
        "import matplotlib.pyplot as plt\n",
        "import seaborn as sns\n",
        "\n",
        "df=pd.read_csv('/content/college_data (1).csv')"
      ],
      "metadata": {
        "id": "NY71Ih4rlaT_"
      },
      "execution_count": null,
      "outputs": []
    },
    {
      "cell_type": "code",
      "source": [
        "df"
      ],
      "metadata": {
        "colab": {
          "base_uri": "https://localhost:8080/",
          "height": 424
        },
        "id": "yfiQMhgpG2ko",
        "outputId": "52d9061a-6a3d-410f-e7d0-1518c4d74445"
      },
      "execution_count": null,
      "outputs": [
        {
          "output_type": "execute_result",
          "data": {
            "text/plain": [
              "   College  Study_Hours  Exam_Score Access_Resources\n",
              "0    Alpha          5.7        43.5               No\n",
              "1    Alpha          5.2        44.1              Yes\n",
              "2    Alpha          9.3        71.5              Yes\n",
              "3    Alpha          7.1        59.2               No\n",
              "4    Alpha          9.9        74.6               No\n",
              "..     ...          ...         ...              ...\n",
              "95    Beta          4.1        62.6              Yes\n",
              "96    Beta          4.8        84.9               No\n",
              "97    Beta          8.6        40.0               No\n",
              "98    Beta          2.2        64.1              Yes\n",
              "99    Beta          4.2        72.9              Yes\n",
              "\n",
              "[100 rows x 4 columns]"
            ],
            "text/html": [
              "\n",
              "  <div id=\"df-ee815d21-c6f7-42e6-a6bc-6bac735a3feb\" class=\"colab-df-container\">\n",
              "    <div>\n",
              "<style scoped>\n",
              "    .dataframe tbody tr th:only-of-type {\n",
              "        vertical-align: middle;\n",
              "    }\n",
              "\n",
              "    .dataframe tbody tr th {\n",
              "        vertical-align: top;\n",
              "    }\n",
              "\n",
              "    .dataframe thead th {\n",
              "        text-align: right;\n",
              "    }\n",
              "</style>\n",
              "<table border=\"1\" class=\"dataframe\">\n",
              "  <thead>\n",
              "    <tr style=\"text-align: right;\">\n",
              "      <th></th>\n",
              "      <th>College</th>\n",
              "      <th>Study_Hours</th>\n",
              "      <th>Exam_Score</th>\n",
              "      <th>Access_Resources</th>\n",
              "    </tr>\n",
              "  </thead>\n",
              "  <tbody>\n",
              "    <tr>\n",
              "      <th>0</th>\n",
              "      <td>Alpha</td>\n",
              "      <td>5.7</td>\n",
              "      <td>43.5</td>\n",
              "      <td>No</td>\n",
              "    </tr>\n",
              "    <tr>\n",
              "      <th>1</th>\n",
              "      <td>Alpha</td>\n",
              "      <td>5.2</td>\n",
              "      <td>44.1</td>\n",
              "      <td>Yes</td>\n",
              "    </tr>\n",
              "    <tr>\n",
              "      <th>2</th>\n",
              "      <td>Alpha</td>\n",
              "      <td>9.3</td>\n",
              "      <td>71.5</td>\n",
              "      <td>Yes</td>\n",
              "    </tr>\n",
              "    <tr>\n",
              "      <th>3</th>\n",
              "      <td>Alpha</td>\n",
              "      <td>7.1</td>\n",
              "      <td>59.2</td>\n",
              "      <td>No</td>\n",
              "    </tr>\n",
              "    <tr>\n",
              "      <th>4</th>\n",
              "      <td>Alpha</td>\n",
              "      <td>9.9</td>\n",
              "      <td>74.6</td>\n",
              "      <td>No</td>\n",
              "    </tr>\n",
              "    <tr>\n",
              "      <th>...</th>\n",
              "      <td>...</td>\n",
              "      <td>...</td>\n",
              "      <td>...</td>\n",
              "      <td>...</td>\n",
              "    </tr>\n",
              "    <tr>\n",
              "      <th>95</th>\n",
              "      <td>Beta</td>\n",
              "      <td>4.1</td>\n",
              "      <td>62.6</td>\n",
              "      <td>Yes</td>\n",
              "    </tr>\n",
              "    <tr>\n",
              "      <th>96</th>\n",
              "      <td>Beta</td>\n",
              "      <td>4.8</td>\n",
              "      <td>84.9</td>\n",
              "      <td>No</td>\n",
              "    </tr>\n",
              "    <tr>\n",
              "      <th>97</th>\n",
              "      <td>Beta</td>\n",
              "      <td>8.6</td>\n",
              "      <td>40.0</td>\n",
              "      <td>No</td>\n",
              "    </tr>\n",
              "    <tr>\n",
              "      <th>98</th>\n",
              "      <td>Beta</td>\n",
              "      <td>2.2</td>\n",
              "      <td>64.1</td>\n",
              "      <td>Yes</td>\n",
              "    </tr>\n",
              "    <tr>\n",
              "      <th>99</th>\n",
              "      <td>Beta</td>\n",
              "      <td>4.2</td>\n",
              "      <td>72.9</td>\n",
              "      <td>Yes</td>\n",
              "    </tr>\n",
              "  </tbody>\n",
              "</table>\n",
              "<p>100 rows × 4 columns</p>\n",
              "</div>\n",
              "    <div class=\"colab-df-buttons\">\n",
              "\n",
              "  <div class=\"colab-df-container\">\n",
              "    <button class=\"colab-df-convert\" onclick=\"convertToInteractive('df-ee815d21-c6f7-42e6-a6bc-6bac735a3feb')\"\n",
              "            title=\"Convert this dataframe to an interactive table.\"\n",
              "            style=\"display:none;\">\n",
              "\n",
              "  <svg xmlns=\"http://www.w3.org/2000/svg\" height=\"24px\" viewBox=\"0 -960 960 960\">\n",
              "    <path d=\"M120-120v-720h720v720H120Zm60-500h600v-160H180v160Zm220 220h160v-160H400v160Zm0 220h160v-160H400v160ZM180-400h160v-160H180v160Zm440 0h160v-160H620v160ZM180-180h160v-160H180v160Zm440 0h160v-160H620v160Z\"/>\n",
              "  </svg>\n",
              "    </button>\n",
              "\n",
              "  <style>\n",
              "    .colab-df-container {\n",
              "      display:flex;\n",
              "      gap: 12px;\n",
              "    }\n",
              "\n",
              "    .colab-df-convert {\n",
              "      background-color: #E8F0FE;\n",
              "      border: none;\n",
              "      border-radius: 50%;\n",
              "      cursor: pointer;\n",
              "      display: none;\n",
              "      fill: #1967D2;\n",
              "      height: 32px;\n",
              "      padding: 0 0 0 0;\n",
              "      width: 32px;\n",
              "    }\n",
              "\n",
              "    .colab-df-convert:hover {\n",
              "      background-color: #E2EBFA;\n",
              "      box-shadow: 0px 1px 2px rgba(60, 64, 67, 0.3), 0px 1px 3px 1px rgba(60, 64, 67, 0.15);\n",
              "      fill: #174EA6;\n",
              "    }\n",
              "\n",
              "    .colab-df-buttons div {\n",
              "      margin-bottom: 4px;\n",
              "    }\n",
              "\n",
              "    [theme=dark] .colab-df-convert {\n",
              "      background-color: #3B4455;\n",
              "      fill: #D2E3FC;\n",
              "    }\n",
              "\n",
              "    [theme=dark] .colab-df-convert:hover {\n",
              "      background-color: #434B5C;\n",
              "      box-shadow: 0px 1px 3px 1px rgba(0, 0, 0, 0.15);\n",
              "      filter: drop-shadow(0px 1px 2px rgba(0, 0, 0, 0.3));\n",
              "      fill: #FFFFFF;\n",
              "    }\n",
              "  </style>\n",
              "\n",
              "    <script>\n",
              "      const buttonEl =\n",
              "        document.querySelector('#df-ee815d21-c6f7-42e6-a6bc-6bac735a3feb button.colab-df-convert');\n",
              "      buttonEl.style.display =\n",
              "        google.colab.kernel.accessAllowed ? 'block' : 'none';\n",
              "\n",
              "      async function convertToInteractive(key) {\n",
              "        const element = document.querySelector('#df-ee815d21-c6f7-42e6-a6bc-6bac735a3feb');\n",
              "        const dataTable =\n",
              "          await google.colab.kernel.invokeFunction('convertToInteractive',\n",
              "                                                    [key], {});\n",
              "        if (!dataTable) return;\n",
              "\n",
              "        const docLinkHtml = 'Like what you see? Visit the ' +\n",
              "          '<a target=\"_blank\" href=https://colab.research.google.com/notebooks/data_table.ipynb>data table notebook</a>'\n",
              "          + ' to learn more about interactive tables.';\n",
              "        element.innerHTML = '';\n",
              "        dataTable['output_type'] = 'display_data';\n",
              "        await google.colab.output.renderOutput(dataTable, element);\n",
              "        const docLink = document.createElement('div');\n",
              "        docLink.innerHTML = docLinkHtml;\n",
              "        element.appendChild(docLink);\n",
              "      }\n",
              "    </script>\n",
              "  </div>\n",
              "\n",
              "\n",
              "    <div id=\"df-2a1dd70d-6382-428b-84d9-2a6104b8f2a2\">\n",
              "      <button class=\"colab-df-quickchart\" onclick=\"quickchart('df-2a1dd70d-6382-428b-84d9-2a6104b8f2a2')\"\n",
              "                title=\"Suggest charts\"\n",
              "                style=\"display:none;\">\n",
              "\n",
              "<svg xmlns=\"http://www.w3.org/2000/svg\" height=\"24px\"viewBox=\"0 0 24 24\"\n",
              "     width=\"24px\">\n",
              "    <g>\n",
              "        <path d=\"M19 3H5c-1.1 0-2 .9-2 2v14c0 1.1.9 2 2 2h14c1.1 0 2-.9 2-2V5c0-1.1-.9-2-2-2zM9 17H7v-7h2v7zm4 0h-2V7h2v10zm4 0h-2v-4h2v4z\"/>\n",
              "    </g>\n",
              "</svg>\n",
              "      </button>\n",
              "\n",
              "<style>\n",
              "  .colab-df-quickchart {\n",
              "      --bg-color: #E8F0FE;\n",
              "      --fill-color: #1967D2;\n",
              "      --hover-bg-color: #E2EBFA;\n",
              "      --hover-fill-color: #174EA6;\n",
              "      --disabled-fill-color: #AAA;\n",
              "      --disabled-bg-color: #DDD;\n",
              "  }\n",
              "\n",
              "  [theme=dark] .colab-df-quickchart {\n",
              "      --bg-color: #3B4455;\n",
              "      --fill-color: #D2E3FC;\n",
              "      --hover-bg-color: #434B5C;\n",
              "      --hover-fill-color: #FFFFFF;\n",
              "      --disabled-bg-color: #3B4455;\n",
              "      --disabled-fill-color: #666;\n",
              "  }\n",
              "\n",
              "  .colab-df-quickchart {\n",
              "    background-color: var(--bg-color);\n",
              "    border: none;\n",
              "    border-radius: 50%;\n",
              "    cursor: pointer;\n",
              "    display: none;\n",
              "    fill: var(--fill-color);\n",
              "    height: 32px;\n",
              "    padding: 0;\n",
              "    width: 32px;\n",
              "  }\n",
              "\n",
              "  .colab-df-quickchart:hover {\n",
              "    background-color: var(--hover-bg-color);\n",
              "    box-shadow: 0 1px 2px rgba(60, 64, 67, 0.3), 0 1px 3px 1px rgba(60, 64, 67, 0.15);\n",
              "    fill: var(--button-hover-fill-color);\n",
              "  }\n",
              "\n",
              "  .colab-df-quickchart-complete:disabled,\n",
              "  .colab-df-quickchart-complete:disabled:hover {\n",
              "    background-color: var(--disabled-bg-color);\n",
              "    fill: var(--disabled-fill-color);\n",
              "    box-shadow: none;\n",
              "  }\n",
              "\n",
              "  .colab-df-spinner {\n",
              "    border: 2px solid var(--fill-color);\n",
              "    border-color: transparent;\n",
              "    border-bottom-color: var(--fill-color);\n",
              "    animation:\n",
              "      spin 1s steps(1) infinite;\n",
              "  }\n",
              "\n",
              "  @keyframes spin {\n",
              "    0% {\n",
              "      border-color: transparent;\n",
              "      border-bottom-color: var(--fill-color);\n",
              "      border-left-color: var(--fill-color);\n",
              "    }\n",
              "    20% {\n",
              "      border-color: transparent;\n",
              "      border-left-color: var(--fill-color);\n",
              "      border-top-color: var(--fill-color);\n",
              "    }\n",
              "    30% {\n",
              "      border-color: transparent;\n",
              "      border-left-color: var(--fill-color);\n",
              "      border-top-color: var(--fill-color);\n",
              "      border-right-color: var(--fill-color);\n",
              "    }\n",
              "    40% {\n",
              "      border-color: transparent;\n",
              "      border-right-color: var(--fill-color);\n",
              "      border-top-color: var(--fill-color);\n",
              "    }\n",
              "    60% {\n",
              "      border-color: transparent;\n",
              "      border-right-color: var(--fill-color);\n",
              "    }\n",
              "    80% {\n",
              "      border-color: transparent;\n",
              "      border-right-color: var(--fill-color);\n",
              "      border-bottom-color: var(--fill-color);\n",
              "    }\n",
              "    90% {\n",
              "      border-color: transparent;\n",
              "      border-bottom-color: var(--fill-color);\n",
              "    }\n",
              "  }\n",
              "</style>\n",
              "\n",
              "      <script>\n",
              "        async function quickchart(key) {\n",
              "          const quickchartButtonEl =\n",
              "            document.querySelector('#' + key + ' button');\n",
              "          quickchartButtonEl.disabled = true;  // To prevent multiple clicks.\n",
              "          quickchartButtonEl.classList.add('colab-df-spinner');\n",
              "          try {\n",
              "            const charts = await google.colab.kernel.invokeFunction(\n",
              "                'suggestCharts', [key], {});\n",
              "          } catch (error) {\n",
              "            console.error('Error during call to suggestCharts:', error);\n",
              "          }\n",
              "          quickchartButtonEl.classList.remove('colab-df-spinner');\n",
              "          quickchartButtonEl.classList.add('colab-df-quickchart-complete');\n",
              "        }\n",
              "        (() => {\n",
              "          let quickchartButtonEl =\n",
              "            document.querySelector('#df-2a1dd70d-6382-428b-84d9-2a6104b8f2a2 button');\n",
              "          quickchartButtonEl.style.display =\n",
              "            google.colab.kernel.accessAllowed ? 'block' : 'none';\n",
              "        })();\n",
              "      </script>\n",
              "    </div>\n",
              "\n",
              "  <div id=\"id_e9d2ae80-fa87-44dd-aaa3-bf536ddc6256\">\n",
              "    <style>\n",
              "      .colab-df-generate {\n",
              "        background-color: #E8F0FE;\n",
              "        border: none;\n",
              "        border-radius: 50%;\n",
              "        cursor: pointer;\n",
              "        display: none;\n",
              "        fill: #1967D2;\n",
              "        height: 32px;\n",
              "        padding: 0 0 0 0;\n",
              "        width: 32px;\n",
              "      }\n",
              "\n",
              "      .colab-df-generate:hover {\n",
              "        background-color: #E2EBFA;\n",
              "        box-shadow: 0px 1px 2px rgba(60, 64, 67, 0.3), 0px 1px 3px 1px rgba(60, 64, 67, 0.15);\n",
              "        fill: #174EA6;\n",
              "      }\n",
              "\n",
              "      [theme=dark] .colab-df-generate {\n",
              "        background-color: #3B4455;\n",
              "        fill: #D2E3FC;\n",
              "      }\n",
              "\n",
              "      [theme=dark] .colab-df-generate:hover {\n",
              "        background-color: #434B5C;\n",
              "        box-shadow: 0px 1px 3px 1px rgba(0, 0, 0, 0.15);\n",
              "        filter: drop-shadow(0px 1px 2px rgba(0, 0, 0, 0.3));\n",
              "        fill: #FFFFFF;\n",
              "      }\n",
              "    </style>\n",
              "    <button class=\"colab-df-generate\" onclick=\"generateWithVariable('df')\"\n",
              "            title=\"Generate code using this dataframe.\"\n",
              "            style=\"display:none;\">\n",
              "\n",
              "  <svg xmlns=\"http://www.w3.org/2000/svg\" height=\"24px\"viewBox=\"0 0 24 24\"\n",
              "       width=\"24px\">\n",
              "    <path d=\"M7,19H8.4L18.45,9,17,7.55,7,17.6ZM5,21V16.75L18.45,3.32a2,2,0,0,1,2.83,0l1.4,1.43a1.91,1.91,0,0,1,.58,1.4,1.91,1.91,0,0,1-.58,1.4L9.25,21ZM18.45,9,17,7.55Zm-12,3A5.31,5.31,0,0,0,4.9,8.1,5.31,5.31,0,0,0,1,6.5,5.31,5.31,0,0,0,4.9,4.9,5.31,5.31,0,0,0,6.5,1,5.31,5.31,0,0,0,8.1,4.9,5.31,5.31,0,0,0,12,6.5,5.46,5.46,0,0,0,6.5,12Z\"/>\n",
              "  </svg>\n",
              "    </button>\n",
              "    <script>\n",
              "      (() => {\n",
              "      const buttonEl =\n",
              "        document.querySelector('#id_e9d2ae80-fa87-44dd-aaa3-bf536ddc6256 button.colab-df-generate');\n",
              "      buttonEl.style.display =\n",
              "        google.colab.kernel.accessAllowed ? 'block' : 'none';\n",
              "\n",
              "      buttonEl.onclick = () => {\n",
              "        google.colab.notebook.generateWithVariable('df');\n",
              "      }\n",
              "      })();\n",
              "    </script>\n",
              "  </div>\n",
              "\n",
              "    </div>\n",
              "  </div>\n"
            ],
            "application/vnd.google.colaboratory.intrinsic+json": {
              "type": "dataframe",
              "variable_name": "df",
              "summary": "{\n  \"name\": \"df\",\n  \"rows\": 100,\n  \"fields\": [\n    {\n      \"column\": \"College\",\n      \"properties\": {\n        \"dtype\": \"category\",\n        \"num_unique_values\": 2,\n        \"samples\": [\n          \"Beta\",\n          \"Alpha\"\n        ],\n        \"semantic_type\": \"\",\n        \"description\": \"\"\n      }\n    },\n    {\n      \"column\": \"Study_Hours\",\n      \"properties\": {\n        \"dtype\": \"number\",\n        \"std\": 2.3524360895793865,\n        \"min\": 1.3,\n        \"max\": 9.9,\n        \"num_unique_values\": 61,\n        \"samples\": [\n          5.7,\n          1.6\n        ],\n        \"semantic_type\": \"\",\n        \"description\": \"\"\n      }\n    },\n    {\n      \"column\": \"Exam_Score\",\n      \"properties\": {\n        \"dtype\": \"number\",\n        \"std\": 17.260838024062718,\n        \"min\": 40.0,\n        \"max\": 99.9,\n        \"num_unique_values\": 92,\n        \"samples\": [\n          53.9,\n          68.4\n        ],\n        \"semantic_type\": \"\",\n        \"description\": \"\"\n      }\n    },\n    {\n      \"column\": \"Access_Resources\",\n      \"properties\": {\n        \"dtype\": \"category\",\n        \"num_unique_values\": 2,\n        \"samples\": [\n          \"Yes\",\n          \"No\"\n        ],\n        \"semantic_type\": \"\",\n        \"description\": \"\"\n      }\n    }\n  ]\n}"
            }
          },
          "metadata": {},
          "execution_count": 2
        }
      ]
    },
    {
      "cell_type": "markdown",
      "source": [
        "Calculation of Mean, Median, Mode, Standard Deviation and Range for Study_Hours and Exam_Scores"
      ],
      "metadata": {
        "id": "mDJMLSUEknOh"
      }
    },
    {
      "cell_type": "code",
      "source": [
        "from statistics import mode\n",
        "\n",
        "# Function to get stats for a college\n",
        "def get_college_stats(df, college_name):\n",
        "    college_df = df[df['College'] == college_name]\n",
        "    stats = {}\n",
        "    for column in ['Study_Hours', 'Exam_Score']:\n",
        "        try:\n",
        "            mode_value = mode(college_df[column])\n",
        "        except:\n",
        "            mode_value = \"No unique mode\"\n",
        "        stats[column] = {\n",
        "            'Mean': round(college_df[column].mean(), 2),\n",
        "            'Median': round(college_df[column].median(), 2),\n",
        "            'Mode': mode_value,\n",
        "            'Standard Deviation': round(college_df[column].std(), 2),\n",
        "            'Range': round(college_df[column].max() - college_df[column].min(), 2)\n",
        "        }\n",
        "    return stats\n",
        "\n",
        "# Get stats for both colleges\n",
        "alpha_stats = get_college_stats(df, \"Alpha\")\n",
        "beta_stats = get_college_stats(df, \"Beta\")\n",
        "\n",
        "# Combine into a single DataFrame for nice display\n",
        "summary_df = pd.DataFrame({\n",
        "    'Study_Hours (Alpha)': alpha_stats['Study_Hours'],\n",
        "    'Exam_Score (Alpha)': alpha_stats['Exam_Score'],\n",
        "    'Study_Hours (Beta)': beta_stats['Study_Hours'],\n",
        "    'Exam_Score (Beta)': beta_stats['Exam_Score']\n",
        "})\n",
        "\n",
        "print(\"\\n---Statistics ---\")\n",
        "print(summary_df)\n"
      ],
      "metadata": {
        "colab": {
          "base_uri": "https://localhost:8080/"
        },
        "id": "me_BVC5xjS_9",
        "outputId": "21806872-b48e-47e4-b174-cc67789d7c17"
      },
      "execution_count": null,
      "outputs": [
        {
          "output_type": "stream",
          "name": "stdout",
          "text": [
            "\n",
            "---Statistics ---\n",
            "                    Study_Hours (Alpha)  Exam_Score (Alpha)  \\\n",
            "Mean                               5.36               69.64   \n",
            "Median                             5.55               72.65   \n",
            "Mode                               5.70               44.10   \n",
            "Standard Deviation                 2.55               16.53   \n",
            "Range                              8.60               59.70   \n",
            "\n",
            "                    Study_Hours (Beta)  Exam_Score (Beta)  \n",
            "Mean                              5.70              69.58  \n",
            "Median                            6.00              68.45  \n",
            "Mode                              6.00              43.30  \n",
            "Standard Deviation                2.15              18.13  \n",
            "Range                             8.30              57.70  \n"
          ]
        }
      ]
    },
    {
      "cell_type": "markdown",
      "source": [
        "Histogram of Exam_Scores per college"
      ],
      "metadata": {
        "id": "9xm85OqLk9YE"
      }
    },
    {
      "cell_type": "code",
      "source": [
        "plt.figure(figsize=(10, 5))\n",
        "sns.histplot(data=df, x='Exam_Score', hue='College', kde=True, bins=15, multiple='stack')\n",
        "plt.title('Histogram of Exam Scores by College')\n",
        "plt.xlabel('Exam Score')\n",
        "plt.ylabel('Frequency')\n",
        "plt.legend(title='College', labels=['Alpha College', 'Beta College'])\n",
        "plt.tight_layout()\n",
        "plt.show()"
      ],
      "metadata": {
        "colab": {
          "base_uri": "https://localhost:8080/",
          "height": 507
        },
        "id": "YY8uhGA-mYPK",
        "outputId": "56392820-a112-47d9-c0c0-2e092899e903"
      },
      "execution_count": null,
      "outputs": [
        {
          "output_type": "display_data",
          "data": {
            "text/plain": [
              "<Figure size 1000x500 with 1 Axes>"
            ],
            "image/png": "[encoded data removed]"
          },
          "metadata": {}
        }
      ]
    },
    {
      "cell_type": "markdown",
      "source": [
        "Boxplot comparing Study_Hours between the two colleges"
      ],
      "metadata": {
        "id": "dLM46B4ElFwr"
      }
    },
    {
      "cell_type": "code",
      "source": [
        "plt.figure(figsize=(8, 5))\n",
        "sns.boxplot(data=df, x='College', y='Study_Hours')\n",
        "plt.title('Boxplot of Study Hours by College')\n",
        "plt.xlabel('College')\n",
        "plt.ylabel('Study Hours')\n",
        "plt.xticks([0, 1], ['Alpha College', 'Beta College'])\n",
        "plt.tight_layout()\n",
        "plt.show()"
      ],
      "metadata": {
        "colab": {
          "base_uri": "https://localhost:8080/",
          "height": 507
        },
        "id": "8zVLTixSs6Z4",
        "outputId": "dcdb5bb8-3ca4-42c4-cf00-a50e51b2091b"
      },
      "execution_count": null,
      "outputs": [
        {
          "output_type": "display_data",
          "data": {
            "text/plain": [
              "<Figure size 800x500 with 1 Axes>"
            ],
            "image/png": "[encoded data removed]"
          },
          "metadata": {}
        }
      ]
    },
    {
      "cell_type": "markdown",
      "source": [
        "**Interpretation:**\n",
        "\n",
        "**Average Performance:** Based on the mean exam scores, the college with the higher average demonstrates better academic performance i.e., Alpha College has a higher mean Exam_Score of 69.64, and shows better average performance.\n",
        "\n",
        "**Variability in Study Hours:** The standard deviation or the spread in the boxplot indicates variability. The college with the wider spread or larger standard deviation in Study_Hours i.e.; Alpha College with 2.55 has higher variability in Study_Hours.\n",
        "\n"
      ],
      "metadata": {
        "id": "DW0RYS06lok2"
      }
    },
    {
      "cell_type": "markdown",
      "source": [
        "**Two-Sample t-test**\n",
        "\n",
        "**Null Hypthosis:** mean exam score differs significantly between the two colleges.\n",
        "\n",
        "**Alternative Hypthosis:** mean exam score doesnot differs significantly between the two colleges."
      ],
      "metadata": {
        "id": "BZKrB5j0wsxU"
      }
    },
    {
      "cell_type": "code",
      "source": [
        "from scipy.stats import ttest_ind\n",
        "\n",
        "# Filter Exam Scores by College\n",
        "alpha_scores = df[df['College'] == 'Alpha']['Exam_Score']\n",
        "beta_scores = df[df['College'] == 'Beta']['Exam_Score']\n",
        "\n",
        "# Perform two-sample independent t-test\n",
        "t_stat, p_value = ttest_ind(alpha_scores, beta_scores, equal_var=False)  # Welch's t-test\n",
        "\n",
        "# Output results\n",
        "print(\"Two-Sample Independent t-test:\")\n",
        "print(f\"t-statistic = {t_stat:.4f}\")\n",
        "print(f\"p-value = {p_value:.4f}\")\n"
      ],
      "metadata": {
        "colab": {
          "base_uri": "https://localhost:8080/"
        },
        "id": "IFhEnQueuJuv",
        "outputId": "43bcfd69-4fa0-4c06-c99a-262b6ea5a46f"
      },
      "execution_count": null,
      "outputs": [
        {
          "output_type": "stream",
          "name": "stdout",
          "text": [
            "Two-Sample Independent t-test:\n",
            "t-statistic = 0.0173\n",
            "p-value = 0.9862\n"
          ]
        }
      ]
    },
    {
      "cell_type": "markdown",
      "source": [
        "If **p-value < 0.05,** reject the null hypothesis → **there is a** **significant difference** in mean exam scores.\n",
        "\n",
        "If **p-value ≥ 0.05,** fail to reject the null hypothesis → no significant difference in means.\n",
        "\n",
        "Hence we go with **null hypthosis**"
      ],
      "metadata": {
        "id": "mo5qNrvux5TO"
      }
    },
    {
      "cell_type": "markdown",
      "source": [
        "**Chi-Square Test**\n",
        "\n",
        "**Null Hypothesis (H₀):** Access to resources is independent of the college.\n",
        "\n",
        "**Alternative Hypothesis (H₁):** Access to resources is dependent on the college."
      ],
      "metadata": {
        "id": "rkgVvLmzyqMK"
      }
    },
    {
      "cell_type": "code",
      "source": [
        "from scipy.stats import chi2_contingency\n",
        "\n",
        "contingency_table = pd.crosstab(df['College'], df['Access_Resources'])\n",
        "print(\"Contingency Table (Observed):\\n\", contingency_table)\n",
        "\n",
        "# Perform Chi-Square Test\n",
        "chi2_stat, p_value, dof, expected = chi2_contingency(contingency_table)\n",
        "\n",
        "# Convert expected to a DataFrame for readability\n",
        "expected_table = pd.DataFrame(expected, index=contingency_table.index, columns=contingency_table.columns)\n",
        "\n",
        "# Output results\n",
        "print(\"\\nExpected Frequencies:\\n\", expected_table)\n",
        "print(f\"\\nChi-Square Statistic: {chi2_stat:.4f}\")\n",
        "print(f\"P-Value: {p_value:.4f}\")\n"
      ],
      "metadata": {
        "colab": {
          "base_uri": "https://localhost:8080/"
        },
        "id": "vjznQmCFx2XW",
        "outputId": "cc2a0085-7573-470d-c2d9-b313813359e4"
      },
      "execution_count": null,
      "outputs": [
        {
          "output_type": "stream",
          "name": "stdout",
          "text": [
            "Contingency Table (Observed):\n",
            " Access_Resources  No  Yes\n",
            "College                  \n",
            "Alpha             24   26\n",
            "Beta              23   27\n",
            "\n",
            "Expected Frequencies:\n",
            " Access_Resources    No   Yes\n",
            "College                     \n",
            "Alpha             23.5  26.5\n",
            "Beta              23.5  26.5\n",
            "\n",
            "Chi-Square Statistic: 0.0000\n",
            "P-Value: 1.0000\n"
          ]
        }
      ]
    },
    {
      "cell_type": "markdown",
      "source": [
        "If **p-value < 0.05:** Reject H₀ → There is a significant association between College and Access to Resources.\n",
        "\n",
        "If **p-value ≥ 0.05:** Fail to reject H₀ → No significant association (they are likely independent).\n",
        "\n",
        "We accept Null Hypthosis"
      ],
      "metadata": {
        "id": "R2yY-QoIzpC8"
      }
    },
    {
      "cell_type": "markdown",
      "source": [
        "**Simple Linear Regression**"
      ],
      "metadata": {
        "id": "MRi8NSkjx1x3"
      }
    },
    {
      "cell_type": "code",
      "source": [
        "from sklearn.linear_model import LinearRegression\n",
        "from sklearn.metrics import r2_score\n",
        "\n",
        "X = df[['Study_Hours']]  # Feature\n",
        "y = df['Exam_Score']     # Target\n",
        "\n",
        "# Initialize and fit the model\n",
        "model = LinearRegression()\n",
        "model.fit(X, y)\n",
        "\n",
        "# Get predictions\n",
        "y_pred = model.predict(X)\n",
        "\n",
        "# Get slope (coefficient), intercept, R²\n",
        "slope = model.coef_[0]\n",
        "intercept = model.intercept_\n",
        "r_squared = r2_score(y, y_pred)\n",
        "\n",
        "# Print Regression Equation and Metrics\n",
        "print(f\"Regression Equation: Exam_Score = {slope:.2f} * Study_Hours + {intercept:.2f}\")\n",
        "print(f\"Slope (m): {slope:.4f}\")\n",
        "print(f\"Intercept (b): {intercept:.4f}\")\n",
        "print(f\"R-squared (R²): {r_squared:.4f}\")\n"
      ],
      "metadata": {
        "colab": {
          "base_uri": "https://localhost:8080/"
        },
        "id": "_EGZsChPzdr_",
        "outputId": "679a6b15-47ec-4145-ea0c-537beca03bd8"
      },
      "execution_count": null,
      "outputs": [
        {
          "output_type": "stream",
          "name": "stdout",
          "text": [
            "Regression Equation: Exam_Score = 1.05 * Study_Hours + 63.79\n",
            "Slope (m): 1.0529\n",
            "Intercept (b): 63.7858\n",
            "R-squared (R²): 0.0206\n"
          ]
        }
      ]
    },
    {
      "cell_type": "code",
      "source": [
        "# Scatterplot with regression line\n",
        "plt.figure(figsize=(8, 5))\n",
        "plt.scatter(X, y, color='blue', label='Actual Scores')\n",
        "plt.plot(X, y_pred, color='red', linewidth=2, label='Fitted Line')\n",
        "plt.title('Study Hours vs Exam Score')\n",
        "plt.xlabel('Study Hours')\n",
        "plt.ylabel('Exam Score')\n",
        "plt.legend()\n",
        "plt.tight_layout()\n",
        "plt.show()\n"
      ],
      "metadata": {
        "colab": {
          "base_uri": "https://localhost:8080/",
          "height": 507
        },
        "id": "Niihn5Lb0wIy",
        "outputId": "aaed8b78-55c5-4be3-c7d0-fc7d82def0f6"
      },
      "execution_count": null,
      "outputs": [
        {
          "output_type": "display_data",
          "data": {
            "text/plain": [
              "<Figure size 800x500 with 1 Axes>"
            ],
            "image/png": "[encoded data removed]"
          },
          "metadata": {}
        }
      ]
    },
    {
      "cell_type": "markdown",
      "source": [
        "**Multiple Regression**"
      ],
      "metadata": {
        "id": "JSrOxNWbzsa6"
      }
    },
    {
      "cell_type": "code",
      "source": [
        "import statsmodels.api as sm\n",
        "\n",
        "# Encode 'Access_Resources': Yes = 1, No = 0\n",
        "df['Access_Resources_Binary'] = df['Access_Resources'].map({'Yes': 1, 'No': 0})\n",
        "\n",
        "# Independent variables\n",
        "X = df[['Study_Hours', 'Access_Resources_Binary']]\n",
        "X = sm.add_constant(X)  # Adds intercept\n",
        "\n",
        "# Dependent variable\n",
        "y = df['Exam_Score']"
      ],
      "metadata": {
        "id": "KCCFIaSq05Sv"
      },
      "execution_count": null,
      "outputs": []
    },
    {
      "cell_type": "code",
      "source": [
        "# Fit the model\n",
        "model = sm.OLS(y, X).fit()\n",
        "\n",
        "# Display summary\n",
        "print(model.summary())"
      ],
      "metadata": {
        "colab": {
          "base_uri": "https://localhost:8080/"
        },
        "id": "Qhc4Rk0t1-gw",
        "outputId": "224d3a8e-5001-42e9-de73-493018be8b11"
      },
      "execution_count": null,
      "outputs": [
        {
          "output_type": "stream",
          "name": "stdout",
          "text": [
            "                            OLS Regression Results                            \n",
            "==============================================================================\n",
            "Dep. Variable:             Exam_Score   R-squared:                       0.022\n",
            "Model:                            OLS   Adj. R-squared:                  0.002\n",
            "Method:                 Least Squares   F-statistic:                     1.076\n",
            "Date:                Sat, 14 Jun 2025   Prob (F-statistic):              0.345\n",
            "Time:                        04:34:43   Log-Likelihood:                -425.14\n",
            "No. Observations:                 100   AIC:                             856.3\n",
            "Df Residuals:                      97   BIC:                             864.1\n",
            "Df Model:                           2                                         \n",
            "Covariance Type:            nonrobust                                         \n",
            "===========================================================================================\n",
            "                              coef    std err          t      P>|t|      [0.025      0.975]\n",
            "-------------------------------------------------------------------------------------------\n",
            "const                      63.0693      4.917     12.826      0.000      53.310      72.829\n",
            "Study_Hours                 1.0716      0.739      1.450      0.150      -0.395       2.538\n",
            "Access_Resources_Binary     1.1563      3.466      0.334      0.739      -5.722       8.035\n",
            "==============================================================================\n",
            "Omnibus:                       16.824   Durbin-Watson:                   2.089\n",
            "Prob(Omnibus):                  0.000   Jarque-Bera (JB):                4.682\n",
            "Skew:                          -0.099   Prob(JB):                       0.0962\n",
            "Kurtosis:                       1.959   Cond. No.                         18.7\n",
            "==============================================================================\n",
            "\n",
            "Notes:\n",
            "[1] Standard Errors assume that the covariance matrix of the errors is correctly specified.\n"
          ]
        }
      ]
    },
    {
      "cell_type": "code",
      "source": [],
      "metadata": {
        "id": "qd9LrVqP2Cr4"
      },
      "execution_count": null,
      "outputs": []
    }
  ]
}